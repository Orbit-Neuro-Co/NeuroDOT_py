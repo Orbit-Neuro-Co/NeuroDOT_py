{
 "cells": [
  {
   "cell_type": "code",
   "execution_count": 1,
   "metadata": {},
   "outputs": [],
   "source": [
    "import sys\n",
    "sys.path.append('src')\n",
    "\n",
    "import neuro_dot as ndot\n",
    "from utils import *\n",
    "\n",
    "lumo_file_name = 'data/Akii_Classification_30On_30Off_10mins_1/Akii_Classification_30On_30Off_10mins_1.lufr'"
   ]
  },
  {
   "cell_type": "code",
   "execution_count": null,
   "metadata": {},
   "outputs": [],
   "source": [
    "output_snirf_file_name = 'tmpdir/tmp.snirf'\n",
    "\n",
    "LUMO_to_SNIRF(lumo_file_name, output_snirf_file_name)\n",
    "verify_SNIRF(output_snirf_file_name)"
   ]
  },
  {
   "cell_type": "code",
   "execution_count": null,
   "metadata": {},
   "outputs": [],
   "source": [
    "data, info = ndot.snirf2ndot(output_snirf_file_name, pn='')\n",
    "\n",
    "print(data.shape)\n",
    "for k,v in info.items():\n",
    "    print(k, v)"
   ]
  }
 ],
 "metadata": {
  "kernelspec": {
   "display_name": "neurodot",
   "language": "python",
   "name": "python3"
  },
  "language_info": {
   "codemirror_mode": {
    "name": "ipython",
    "version": 3
   },
   "file_extension": ".py",
   "mimetype": "text/x-python",
   "name": "python",
   "nbconvert_exporter": "python",
   "pygments_lexer": "ipython3",
   "version": "3.9.19"
  }
 },
 "nbformat": 4,
 "nbformat_minor": 2
}

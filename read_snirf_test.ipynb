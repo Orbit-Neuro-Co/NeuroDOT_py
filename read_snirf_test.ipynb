{
 "cells": [
  {
   "cell_type": "code",
   "execution_count": 1,
   "metadata": {},
   "outputs": [],
   "source": [
    "from snirf import Snirf\n",
    "\n",
    "SNIRF_PATH = 'tmpdir/tmp.snirf'\n",
    "\n",
    "snirf = Snirf(SNIRF_PATH, 'r')"
   ]
  },
  {
   "cell_type": "code",
   "execution_count": null,
   "metadata": {},
   "outputs": [],
   "source": [
    "from snirf import validateSnirf\n",
    "\n",
    "result = validateSnirf(SNIRF_PATH)\n",
    "\n",
    "result.display(severity=3)\n",
    "assert result, 'Invalid SNIRF file!\\n' + result.display()  # Crash and display issues if the file is invalid."
   ]
  }
 ],
 "metadata": {
  "kernelspec": {
   "display_name": "neurodot",
   "language": "python",
   "name": "python3"
  },
  "language_info": {
   "codemirror_mode": {
    "name": "ipython",
    "version": 3
   },
   "file_extension": ".py",
   "mimetype": "text/x-python",
   "name": "python",
   "nbconvert_exporter": "python",
   "pygments_lexer": "ipython3",
   "version": "3.9.19"
  }
 },
 "nbformat": 4,
 "nbformat_minor": 2
}
